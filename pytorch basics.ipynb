{
  "nbformat": 4,
  "nbformat_minor": 0,
  "metadata": {
    "colab": {
      "provenance": [],
      "gpuType": "T4",
      "authorship_tag": "ABX9TyMg4Q8UjPghkwgmDDsGNC7C",
      "include_colab_link": true
    },
    "kernelspec": {
      "name": "python3",
      "display_name": "Python 3"
    },
    "language_info": {
      "name": "python"
    },
    "accelerator": "GPU"
  },
  "cells": [
    {
      "cell_type": "markdown",
      "metadata": {
        "id": "view-in-github",
        "colab_type": "text"
      },
      "source": [
        "<a href=\"https://colab.research.google.com/github/Ezhil-Adhithya/Pytorch-Tutorial/blob/main/pytorch%20basics.ipynb\" target=\"_parent\"><img src=\"https://colab.research.google.com/assets/colab-badge.svg\" alt=\"Open In Colab\"/></a>"
      ]
    },
    {
      "cell_type": "code",
      "execution_count": 4,
      "metadata": {
        "id": "nLtu6V1KBhAl"
      },
      "outputs": [],
      "source": [
        "import torch"
      ]
    },
    {
      "cell_type": "markdown",
      "source": [
        "NUMPY"
      ],
      "metadata": {
        "id": "5fkUKI8eURW7"
      }
    },
    {
      "cell_type": "code",
      "source": [
        "import numpy as np\n",
        "x=np.random.rand(3,4)\n",
        "x"
      ],
      "metadata": {
        "colab": {
          "base_uri": "https://localhost:8080/"
        },
        "id": "1FqnhQZlBlVP",
        "outputId": "76b36c9a-fe05-4085-9a72-cb7afb7c5774"
      },
      "execution_count": 1,
      "outputs": [
        {
          "output_type": "execute_result",
          "data": {
            "text/plain": [
              "array([[0.02817339, 0.40705657, 0.906186  , 0.31789895],\n",
              "       [0.19663815, 0.51456069, 0.89952133, 0.63080702],\n",
              "       [0.08559151, 0.39127989, 0.96265621, 0.4541655 ]])"
            ]
          },
          "metadata": {},
          "execution_count": 1
        }
      ]
    },
    {
      "cell_type": "code",
      "source": [
        "x.dtype"
      ],
      "metadata": {
        "id": "KNkg9siJBskE",
        "colab": {
          "base_uri": "https://localhost:8080/"
        },
        "outputId": "8064ad3b-3064-4c9f-b039-456b36aef728"
      },
      "execution_count": 2,
      "outputs": [
        {
          "output_type": "execute_result",
          "data": {
            "text/plain": [
              "dtype('float64')"
            ]
          },
          "metadata": {},
          "execution_count": 2
        }
      ]
    },
    {
      "cell_type": "markdown",
      "source": [
        "**TENSORS**"
      ],
      "metadata": {
        "id": "7_o2aB9eUU9i"
      }
    },
    {
      "cell_type": "code",
      "source": [
        "tensor_2d=torch.rand(3,4)\n",
        "tensor_2d"
      ],
      "metadata": {
        "id": "GyY_GQ2aUPD8",
        "outputId": "784afcb5-aa72-4fb5-fc2e-a50a22bd556c",
        "colab": {
          "base_uri": "https://localhost:8080/"
        }
      },
      "execution_count": 8,
      "outputs": [
        {
          "output_type": "execute_result",
          "data": {
            "text/plain": [
              "tensor([[0.4351, 0.3635, 0.1761, 0.7994],\n",
              "        [0.9055, 0.2700, 0.8582, 0.7171],\n",
              "        [0.9903, 0.2125, 0.5990, 0.2386]])"
            ]
          },
          "metadata": {},
          "execution_count": 8
        }
      ]
    },
    {
      "cell_type": "code",
      "source": [
        "tensor_3d=torch.rand(2,3,4)\n",
        "tensor_3d"
      ],
      "metadata": {
        "id": "2qbmdbuPVW4g",
        "outputId": "71538edf-2fec-419b-b491-b0758a0d4357",
        "colab": {
          "base_uri": "https://localhost:8080/"
        }
      },
      "execution_count": 9,
      "outputs": [
        {
          "output_type": "execute_result",
          "data": {
            "text/plain": [
              "tensor([[[0.2181, 0.6918, 0.0033, 0.4227],\n",
              "         [0.8023, 0.8572, 0.0723, 0.8456],\n",
              "         [0.3724, 0.7239, 0.2613, 0.9963]],\n",
              "\n",
              "        [[0.3455, 0.6930, 0.7695, 0.8796],\n",
              "         [0.1347, 0.4262, 0.9615, 0.5197],\n",
              "         [0.5081, 0.2309, 0.4234, 0.6485]]])"
            ]
          },
          "metadata": {},
          "execution_count": 9
        }
      ]
    },
    {
      "cell_type": "code",
      "source": [
        "torch.tensor(x)"
      ],
      "metadata": {
        "id": "QHe3zkXUVoSY",
        "outputId": "5545bb6f-08b6-4c22-e1a2-5025d88fa94a",
        "colab": {
          "base_uri": "https://localhost:8080/"
        }
      },
      "execution_count": 11,
      "outputs": [
        {
          "output_type": "execute_result",
          "data": {
            "text/plain": [
              "tensor([[0.0282, 0.4071, 0.9062, 0.3179],\n",
              "        [0.1966, 0.5146, 0.8995, 0.6308],\n",
              "        [0.0856, 0.3913, 0.9627, 0.4542]], dtype=torch.float64)"
            ]
          },
          "metadata": {},
          "execution_count": 11
        }
      ]
    },
    {
      "cell_type": "code",
      "source": [
        "my_torch=torch.arange(10)"
      ],
      "metadata": {
        "id": "FNr-A0oHV5B9"
      },
      "execution_count": 12,
      "outputs": []
    },
    {
      "cell_type": "code",
      "source": [
        "my_torch"
      ],
      "metadata": {
        "id": "Z0OjMY2TXEKy",
        "outputId": "0ba089b9-8db7-421e-ca2e-2644261cd236",
        "colab": {
          "base_uri": "https://localhost:8080/"
        }
      },
      "execution_count": 13,
      "outputs": [
        {
          "output_type": "execute_result",
          "data": {
            "text/plain": [
              "tensor([0, 1, 2, 3, 4, 5, 6, 7, 8, 9])"
            ]
          },
          "metadata": {},
          "execution_count": 13
        }
      ]
    },
    {
      "cell_type": "code",
      "source": [
        "# reshape\n",
        "my_torch.reshape(2,5)"
      ],
      "metadata": {
        "id": "2jgWE5tWXFJ1",
        "outputId": "9230e68f-c37f-4166-cc13-f98c858b1365",
        "colab": {
          "base_uri": "https://localhost:8080/"
        }
      },
      "execution_count": 17,
      "outputs": [
        {
          "output_type": "execute_result",
          "data": {
            "text/plain": [
              "tensor([[0, 1, 2, 3, 4],\n",
              "        [5, 6, 7, 8, 9]])"
            ]
          },
          "metadata": {},
          "execution_count": 17
        }
      ]
    },
    {
      "cell_type": "code",
      "source": [
        "t=torch.arange(10)\n"
      ],
      "metadata": {
        "id": "M0axjrL6YiBM",
        "outputId": "6e64e789-325e-4804-ecb5-676b93dd6756",
        "colab": {
          "base_uri": "https://localhost:8080/"
        }
      },
      "execution_count": 19,
      "outputs": [
        {
          "output_type": "execute_result",
          "data": {
            "text/plain": [
              "tensor([0, 1, 2, 3, 4, 5, 6, 7, 8, 9])"
            ]
          },
          "metadata": {},
          "execution_count": 19
        }
      ]
    },
    {
      "cell_type": "code",
      "source": [
        "t2=t.reshape(5,2)\n",
        "t2"
      ],
      "metadata": {
        "id": "UrFTVm-iZuZB",
        "outputId": "857e9645-3e34-42bf-e8a2-a0016b98a9b3",
        "colab": {
          "base_uri": "https://localhost:8080/"
        }
      },
      "execution_count": 25,
      "outputs": [
        {
          "output_type": "execute_result",
          "data": {
            "text/plain": [
              "tensor([[0, 1],\n",
              "        [2, 3],\n",
              "        [4, 5],\n",
              "        [6, 7],\n",
              "        [8, 9]])"
            ]
          },
          "metadata": {},
          "execution_count": 25
        }
      ]
    },
    {
      "cell_type": "code",
      "source": [
        "t2[:,1:]"
      ],
      "metadata": {
        "id": "S1yhdSN4Zxn7",
        "outputId": "26452783-ab03-4611-f98d-3762d7519aac",
        "colab": {
          "base_uri": "https://localhost:8080/"
        }
      },
      "execution_count": 27,
      "outputs": [
        {
          "output_type": "execute_result",
          "data": {
            "text/plain": [
              "tensor([[1],\n",
              "        [3],\n",
              "        [5],\n",
              "        [7],\n",
              "        [9]])"
            ]
          },
          "metadata": {},
          "execution_count": 27
        }
      ]
    },
    {
      "cell_type": "code",
      "source": [
        "a=torch.tensor([1,2,3,4])\n",
        "b=torch.tensor([5,6,7,8])"
      ],
      "metadata": {
        "id": "BhVbGeknaAyG"
      },
      "execution_count": 28,
      "outputs": []
    },
    {
      "cell_type": "code",
      "source": [
        "torch.add(a,b)"
      ],
      "metadata": {
        "id": "2fnt8ZPtbIaU",
        "outputId": "ddf65312-550b-4e8a-b532-6f297628e21f",
        "colab": {
          "base_uri": "https://localhost:8080/"
        }
      },
      "execution_count": 29,
      "outputs": [
        {
          "output_type": "execute_result",
          "data": {
            "text/plain": [
              "tensor([ 6,  8, 10, 12])"
            ]
          },
          "metadata": {},
          "execution_count": 29
        }
      ]
    },
    {
      "cell_type": "code",
      "source": [
        "torch.sub(a,b)"
      ],
      "metadata": {
        "id": "xFcQLrucbM9-",
        "outputId": "e723926b-962a-4c18-da57-4e96c6933654",
        "colab": {
          "base_uri": "https://localhost:8080/"
        }
      },
      "execution_count": 30,
      "outputs": [
        {
          "output_type": "execute_result",
          "data": {
            "text/plain": [
              "tensor([-4, -4, -4, -4])"
            ]
          },
          "metadata": {},
          "execution_count": 30
        }
      ]
    },
    {
      "cell_type": "code",
      "source": [
        "torch.mul(a,b)"
      ],
      "metadata": {
        "id": "dOFoQ-XlbQk8",
        "outputId": "d9a7b4cc-1d0b-4386-85f1-c3422fa27840",
        "colab": {
          "base_uri": "https://localhost:8080/"
        }
      },
      "execution_count": 31,
      "outputs": [
        {
          "output_type": "execute_result",
          "data": {
            "text/plain": [
              "tensor([ 5, 12, 21, 32])"
            ]
          },
          "metadata": {},
          "execution_count": 31
        }
      ]
    },
    {
      "cell_type": "code",
      "source": [
        "torch.div(a,b)"
      ],
      "metadata": {
        "id": "_ICYt1T2bTPr",
        "outputId": "abc216db-7977-4489-dbba-5448cb3db723",
        "colab": {
          "base_uri": "https://localhost:8080/"
        }
      },
      "execution_count": 32,
      "outputs": [
        {
          "output_type": "execute_result",
          "data": {
            "text/plain": [
              "tensor([0.2000, 0.3333, 0.4286, 0.5000])"
            ]
          },
          "metadata": {},
          "execution_count": 32
        }
      ]
    },
    {
      "cell_type": "code",
      "source": [
        "torch.remainder(b,a)"
      ],
      "metadata": {
        "id": "dwr2JBeMbdM2",
        "outputId": "9687c868-460b-40e5-f81e-8060edf85d2c",
        "colab": {
          "base_uri": "https://localhost:8080/"
        }
      },
      "execution_count": 34,
      "outputs": [
        {
          "output_type": "execute_result",
          "data": {
            "text/plain": [
              "tensor([0, 0, 1, 0])"
            ]
          },
          "metadata": {},
          "execution_count": 34
        }
      ]
    },
    {
      "cell_type": "code",
      "source": [
        "# power of\n",
        "torch.pow(a,b)"
      ],
      "metadata": {
        "id": "SCfQCO_Abqn6",
        "outputId": "64c15fa5-50e7-4fe6-9462-83aca3868459",
        "colab": {
          "base_uri": "https://localhost:8080/"
        }
      },
      "execution_count": 35,
      "outputs": [
        {
          "output_type": "execute_result",
          "data": {
            "text/plain": [
              "tensor([    1,    64,  2187, 65536])"
            ]
          },
          "metadata": {},
          "execution_count": 35
        }
      ]
    },
    {
      "cell_type": "code",
      "source": [],
      "metadata": {
        "id": "4vzrcuvVb6-s"
      },
      "execution_count": null,
      "outputs": []
    }
  ]
}